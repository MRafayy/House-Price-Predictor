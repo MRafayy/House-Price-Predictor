{
  "nbformat": 4,
  "nbformat_minor": 0,
  "metadata": {
    "colab": {
      "provenance": []
    },
    "kernelspec": {
      "name": "python3",
      "display_name": "Python 3"
    },
    "language_info": {
      "name": "python"
    }
  },
  "cells": [
    {
      "cell_type": "code",
      "source": [
        "import torch\n",
        "import numpy as np\n",
        "import torch.nn as nn\n",
        "import torch.optim as optim\n",
        "\n",
        "# Load data\n",
        "train = np.loadtxt('trainData.csv', delimiter=',', skiprows=1)\n",
        "test = np.loadtxt('testData.csv', delimiter=',', skiprows=1)\n",
        "\n",
        "xTrain = torch.tensor(train[:, :-1], dtype=torch.float32)\n",
        "yTrain = torch.tensor(train[:, -1], dtype=torch.float32).unsqueeze(1)\n",
        "xTest = torch.tensor(test[:, :-1], dtype=torch.float32)\n",
        "yTest = torch.tensor(test[:, -1], dtype=torch.float32).unsqueeze(1)\n",
        "\n",
        "\n",
        "np.random.seed(42)\n",
        "torch.manual_seed(42)\n",
        "device = 'cuda' if torch.cuda.is_available() else 'cpu'\n",
        "\n",
        "\n",
        "xTrain, yTrain = xTrain.to(device), yTrain.to(device)\n",
        "xTest, yTest = xTest.to(device), yTest.to(device)\n",
        "\n",
        "\n",
        "class LinearRegression(nn.Module):\n",
        "    def __init__(self):\n",
        "        super(LinearRegression, self).__init__()\n",
        "        self.linearLayer = nn.Linear(3, 1)\n",
        "\n",
        "    def forward(self, x: torch.Tensor) -> torch.Tensor:\n",
        "        return self.linearLayer(x)\n",
        "\n",
        "\n",
        "model = LinearRegression().to(device)\n",
        "lossFN = nn.MSELoss()\n",
        "optim = torch.optim.Adam(model.parameters(), lr=0.1)\n",
        "\n",
        "epochs = 10000\n",
        "for epoch in range(epochs):\n",
        "    model.train()\n",
        "    output = model(xTrain)\n",
        "    loss = lossFN(output, yTrain)\n",
        "    optim.zero_grad()\n",
        "    loss.backward()\n",
        "    optim.step()\n",
        "\n",
        "    model.eval()\n",
        "    with torch.inference_mode():\n",
        "      predictedPrice = model(xTest)\n",
        "      testLoss = lossFN(predictedPrice, yTest)\n",
        "      if (epoch + 1) % 1000 == 0:\n",
        "        print(f\"Epoch {epoch + 1} | Loss = {loss} | Test Loss = {testLoss}\")"
      ],
      "metadata": {
        "id": "6tjBOz3sUy2T",
        "colab": {
          "base_uri": "https://localhost:8080/"
        },
        "outputId": "445fd411-9081-48b6-c7b0-22f9edc5b551"
      },
      "execution_count": 82,
      "outputs": [
        {
          "output_type": "stream",
          "name": "stdout",
          "text": [
            "Epoch 1000 | Loss = 147.5658721923828 | Test Loss = 52.27811813354492\n",
            "Epoch 2000 | Loss = 91.41256713867188 | Test Loss = 56.48283386230469\n",
            "Epoch 3000 | Loss = 50.86811065673828 | Test Loss = 30.805706024169922\n",
            "Epoch 4000 | Loss = 26.78286361694336 | Test Loss = 14.150189399719238\n",
            "Epoch 5000 | Loss = 19.72917366027832 | Test Loss = 8.426664352416992\n",
            "Epoch 6000 | Loss = 18.801807403564453 | Test Loss = 7.149155616760254\n",
            "Epoch 7000 | Loss = 18.606464385986328 | Test Loss = 6.94690465927124\n",
            "Epoch 8000 | Loss = 18.589859008789062 | Test Loss = 6.858092308044434\n",
            "Epoch 9000 | Loss = 19.062118530273438 | Test Loss = 8.56793212890625\n",
            "Epoch 10000 | Loss = 18.58742904663086 | Test Loss = 6.818133354187012\n"
          ]
        }
      ]
    },
    {
      "cell_type": "code",
      "source": [
        "print(yTest, predictedPrice)"
      ],
      "metadata": {
        "colab": {
          "base_uri": "https://localhost:8080/"
        },
        "id": "uKqgHal4tHeo",
        "outputId": "8abfbe36-4a91-4043-b5f2-13efde88b725"
      },
      "execution_count": 85,
      "outputs": [
        {
          "output_type": "stream",
          "name": "stdout",
          "text": [
            "tensor([[104.],\n",
            "        [ 86.],\n",
            "        [ 68.],\n",
            "        [ 96.]]) tensor([[106.6116],\n",
            "        [ 82.2996],\n",
            "        [ 69.5132],\n",
            "        [ 93.8859]])\n"
          ]
        }
      ]
    },
    {
      "cell_type": "code",
      "source": [],
      "metadata": {
        "id": "yt7OeuHiv85e"
      },
      "execution_count": null,
      "outputs": []
    }
  ]
}